{
 "cells": [
  {
   "cell_type": "code",
   "execution_count": 1,
   "metadata": {},
   "outputs": [],
   "source": [
    "import os\n",
    "import plaid\n",
    "import requests\n",
    "from iexfinance.stocks import get_historical_data\n",
    "from iexfinance.refdata import get_symbols\n",
    "import numpy as np\n",
    "import pandas as pd\n",
    "from datetime import datetime, timedelta\n",
    "import matplotlib.pyplot as plt\n",
    "%matplotlib inline"
   ]
  },
  {
   "cell_type": "code",
   "execution_count": 2,
   "metadata": {},
   "outputs": [],
   "source": [
    "np.random.seed(42)"
   ]
  },
  {
   "cell_type": "markdown",
   "metadata": {},
   "source": [
    "# Portfolio Planner\n",
    "\n",
    "Using the iedfinance api to grab historical data for a 60/40 portfolio using `SPY` to represent the stock portion and `AGG` to represent the bonds."
   ]
  },
  {
   "cell_type": "code",
   "execution_count": 3,
   "metadata": {},
   "outputs": [],
   "source": [
    "from iexfinance.stocks import get_historical_data\n",
    "import iexfinance as iex"
   ]
  },
  {
   "cell_type": "markdown",
   "metadata": {},
   "source": [
    "# Data Collection\n",
    "\n",
    "Using the IEX api to fetch closing prices for the `SPY` and `AGG` tickers. Save the results as a pandas DataFrame"
   ]
  },
  {
   "cell_type": "code",
   "execution_count": 7,
   "metadata": {},
   "outputs": [
    {
     "data": {
      "text/html": [
       "<div>\n",
       "<style scoped>\n",
       "    .dataframe tbody tr th:only-of-type {\n",
       "        vertical-align: middle;\n",
       "    }\n",
       "\n",
       "    .dataframe tbody tr th {\n",
       "        vertical-align: top;\n",
       "    }\n",
       "\n",
       "    .dataframe thead tr th {\n",
       "        text-align: left;\n",
       "    }\n",
       "\n",
       "    .dataframe thead tr:last-of-type th {\n",
       "        text-align: right;\n",
       "    }\n",
       "</style>\n",
       "<table border=\"1\" class=\"dataframe\">\n",
       "  <thead>\n",
       "    <tr>\n",
       "      <th></th>\n",
       "      <th colspan=\"5\" halign=\"left\">SPY</th>\n",
       "      <th colspan=\"5\" halign=\"left\">AGG</th>\n",
       "    </tr>\n",
       "    <tr>\n",
       "      <th></th>\n",
       "      <th>open</th>\n",
       "      <th>high</th>\n",
       "      <th>low</th>\n",
       "      <th>close</th>\n",
       "      <th>volume</th>\n",
       "      <th>open</th>\n",
       "      <th>high</th>\n",
       "      <th>low</th>\n",
       "      <th>close</th>\n",
       "      <th>volume</th>\n",
       "    </tr>\n",
       "    <tr>\n",
       "      <th>date</th>\n",
       "      <th></th>\n",
       "      <th></th>\n",
       "      <th></th>\n",
       "      <th></th>\n",
       "      <th></th>\n",
       "      <th></th>\n",
       "      <th></th>\n",
       "      <th></th>\n",
       "      <th></th>\n",
       "      <th></th>\n",
       "    </tr>\n",
       "  </thead>\n",
       "  <tbody>\n",
       "    <tr>\n",
       "      <th>2016-09-19</th>\n",
       "      <td>214.13</td>\n",
       "      <td>214.88</td>\n",
       "      <td>213.03</td>\n",
       "      <td>213.41</td>\n",
       "      <td>80250490</td>\n",
       "      <td>111.73</td>\n",
       "      <td>111.85</td>\n",
       "      <td>111.69</td>\n",
       "      <td>111.71</td>\n",
       "      <td>2026930</td>\n",
       "    </tr>\n",
       "    <tr>\n",
       "      <th>2016-09-20</th>\n",
       "      <td>214.41</td>\n",
       "      <td>214.59</td>\n",
       "      <td>213.38</td>\n",
       "      <td>213.42</td>\n",
       "      <td>69665279</td>\n",
       "      <td>111.90</td>\n",
       "      <td>111.94</td>\n",
       "      <td>111.74</td>\n",
       "      <td>111.75</td>\n",
       "      <td>2078533</td>\n",
       "    </tr>\n",
       "    <tr>\n",
       "      <th>2016-09-21</th>\n",
       "      <td>214.24</td>\n",
       "      <td>216.03</td>\n",
       "      <td>213.44</td>\n",
       "      <td>215.82</td>\n",
       "      <td>110284425</td>\n",
       "      <td>111.69</td>\n",
       "      <td>112.03</td>\n",
       "      <td>111.65</td>\n",
       "      <td>112.03</td>\n",
       "      <td>1899475</td>\n",
       "    </tr>\n",
       "    <tr>\n",
       "      <th>2016-09-22</th>\n",
       "      <td>217.00</td>\n",
       "      <td>217.53</td>\n",
       "      <td>216.71</td>\n",
       "      <td>217.18</td>\n",
       "      <td>76678713</td>\n",
       "      <td>112.10</td>\n",
       "      <td>112.35</td>\n",
       "      <td>112.10</td>\n",
       "      <td>112.26</td>\n",
       "      <td>2017170</td>\n",
       "    </tr>\n",
       "    <tr>\n",
       "      <th>2016-09-23</th>\n",
       "      <td>216.72</td>\n",
       "      <td>216.88</td>\n",
       "      <td>215.88</td>\n",
       "      <td>215.99</td>\n",
       "      <td>73630921</td>\n",
       "      <td>112.31</td>\n",
       "      <td>112.35</td>\n",
       "      <td>112.21</td>\n",
       "      <td>112.23</td>\n",
       "      <td>3415707</td>\n",
       "    </tr>\n",
       "  </tbody>\n",
       "</table>\n",
       "</div>"
      ],
      "text/plain": [
       "               SPY                                        AGG                  \\\n",
       "              open    high     low   close     volume    open    high     low   \n",
       "date                                                                            \n",
       "2016-09-19  214.13  214.88  213.03  213.41   80250490  111.73  111.85  111.69   \n",
       "2016-09-20  214.41  214.59  213.38  213.42   69665279  111.90  111.94  111.74   \n",
       "2016-09-21  214.24  216.03  213.44  215.82  110284425  111.69  112.03  111.65   \n",
       "2016-09-22  217.00  217.53  216.71  217.18   76678713  112.10  112.35  112.10   \n",
       "2016-09-23  216.72  216.88  215.88  215.99   73630921  112.31  112.35  112.21   \n",
       "\n",
       "                             \n",
       "             close   volume  \n",
       "date                         \n",
       "2016-09-19  111.71  2026930  \n",
       "2016-09-20  111.75  2078533  \n",
       "2016-09-21  112.03  1899475  \n",
       "2016-09-22  112.26  2017170  \n",
       "2016-09-23  112.23  3415707  "
      ]
     },
     "execution_count": 7,
     "metadata": {},
     "output_type": "execute_result"
    }
   ],
   "source": [
    "tickers=pd.DataFrame(get_symbols())\n",
    "tickers = [\"SPY\", \"AGG\"]\n",
    "\n",
    "# Setting start and end datetimes of 3 years, between now and 1095 days ago.\n",
    "end_date = datetime.now()\n",
    "start_date = end_date + timedelta(-1095)\n",
    "\n",
    "# Getting 3 year's worth of historical data\n",
    "df = get_historical_data(tickers, start_date, end_date,  output_format='pandas')\n",
    "df.head()"
   ]
  },
  {
   "cell_type": "code",
   "execution_count": 8,
   "metadata": {},
   "outputs": [
    {
     "data": {
      "text/html": [
       "<div>\n",
       "<style scoped>\n",
       "    .dataframe tbody tr th:only-of-type {\n",
       "        vertical-align: middle;\n",
       "    }\n",
       "\n",
       "    .dataframe tbody tr th {\n",
       "        vertical-align: top;\n",
       "    }\n",
       "\n",
       "    .dataframe thead tr th {\n",
       "        text-align: left;\n",
       "    }\n",
       "\n",
       "    .dataframe thead tr:last-of-type th {\n",
       "        text-align: right;\n",
       "    }\n",
       "</style>\n",
       "<table border=\"1\" class=\"dataframe\">\n",
       "  <thead>\n",
       "    <tr>\n",
       "      <th></th>\n",
       "      <th>SPY</th>\n",
       "      <th>AGG</th>\n",
       "    </tr>\n",
       "    <tr>\n",
       "      <th></th>\n",
       "      <th>close</th>\n",
       "      <th>close</th>\n",
       "    </tr>\n",
       "    <tr>\n",
       "      <th>date</th>\n",
       "      <th></th>\n",
       "      <th></th>\n",
       "    </tr>\n",
       "  </thead>\n",
       "  <tbody>\n",
       "    <tr>\n",
       "      <th>2016-09-19</th>\n",
       "      <td>213.41</td>\n",
       "      <td>111.71</td>\n",
       "    </tr>\n",
       "    <tr>\n",
       "      <th>2016-09-20</th>\n",
       "      <td>213.42</td>\n",
       "      <td>111.75</td>\n",
       "    </tr>\n",
       "    <tr>\n",
       "      <th>2016-09-21</th>\n",
       "      <td>215.82</td>\n",
       "      <td>112.03</td>\n",
       "    </tr>\n",
       "    <tr>\n",
       "      <th>2016-09-22</th>\n",
       "      <td>217.18</td>\n",
       "      <td>112.26</td>\n",
       "    </tr>\n",
       "    <tr>\n",
       "      <th>2016-09-23</th>\n",
       "      <td>215.99</td>\n",
       "      <td>112.23</td>\n",
       "    </tr>\n",
       "  </tbody>\n",
       "</table>\n",
       "</div>"
      ],
      "text/plain": [
       "               SPY     AGG\n",
       "             close   close\n",
       "date                      \n",
       "2016-09-19  213.41  111.71\n",
       "2016-09-20  213.42  111.75\n",
       "2016-09-21  215.82  112.03\n",
       "2016-09-22  217.18  112.26\n",
       "2016-09-23  215.99  112.23"
      ]
     },
     "execution_count": 8,
     "metadata": {},
     "output_type": "execute_result"
    }
   ],
   "source": [
    "# Dropping Extraneous Columns \n",
    "df.drop(columns=['open', 'high', 'low', 'volume'], level=1, inplace=True)\n",
    "df.head()"
   ]
  },
  {
   "cell_type": "markdown",
   "metadata": {},
   "source": [
    "### Calculate Daily Returns"
   ]
  },
  {
   "cell_type": "code",
   "execution_count": 10,
   "metadata": {},
   "outputs": [
    {
     "data": {
      "text/html": [
       "<div>\n",
       "<style scoped>\n",
       "    .dataframe tbody tr th:only-of-type {\n",
       "        vertical-align: middle;\n",
       "    }\n",
       "\n",
       "    .dataframe tbody tr th {\n",
       "        vertical-align: top;\n",
       "    }\n",
       "\n",
       "    .dataframe thead tr th {\n",
       "        text-align: left;\n",
       "    }\n",
       "\n",
       "    .dataframe thead tr:last-of-type th {\n",
       "        text-align: right;\n",
       "    }\n",
       "</style>\n",
       "<table border=\"1\" class=\"dataframe\">\n",
       "  <thead>\n",
       "    <tr>\n",
       "      <th></th>\n",
       "      <th>SPY</th>\n",
       "      <th>AGG</th>\n",
       "    </tr>\n",
       "    <tr>\n",
       "      <th></th>\n",
       "      <th>close</th>\n",
       "      <th>close</th>\n",
       "    </tr>\n",
       "    <tr>\n",
       "      <th>date</th>\n",
       "      <th></th>\n",
       "      <th></th>\n",
       "    </tr>\n",
       "  </thead>\n",
       "  <tbody>\n",
       "    <tr>\n",
       "      <th>2016-09-19</th>\n",
       "      <td>NaN</td>\n",
       "      <td>NaN</td>\n",
       "    </tr>\n",
       "    <tr>\n",
       "      <th>2016-09-20</th>\n",
       "      <td>0.000047</td>\n",
       "      <td>0.000358</td>\n",
       "    </tr>\n",
       "    <tr>\n",
       "      <th>2016-09-21</th>\n",
       "      <td>0.011245</td>\n",
       "      <td>0.002506</td>\n",
       "    </tr>\n",
       "    <tr>\n",
       "      <th>2016-09-22</th>\n",
       "      <td>0.006302</td>\n",
       "      <td>0.002053</td>\n",
       "    </tr>\n",
       "    <tr>\n",
       "      <th>2016-09-23</th>\n",
       "      <td>-0.005479</td>\n",
       "      <td>-0.000267</td>\n",
       "    </tr>\n",
       "  </tbody>\n",
       "</table>\n",
       "</div>"
      ],
      "text/plain": [
       "                 SPY       AGG\n",
       "               close     close\n",
       "date                          \n",
       "2016-09-19       NaN       NaN\n",
       "2016-09-20  0.000047  0.000358\n",
       "2016-09-21  0.011245  0.002506\n",
       "2016-09-22  0.006302  0.002053\n",
       "2016-09-23 -0.005479 -0.000267"
      ]
     },
     "execution_count": 10,
     "metadata": {},
     "output_type": "execute_result"
    }
   ],
   "source": [
    "daily_returns = df.pct_change()\n",
    "daily_returns.head()"
   ]
  },
  {
   "cell_type": "markdown",
   "metadata": {},
   "source": [
    "# Monte Carlo Simulation\n",
    "\n",
    "Running Monte Carlo Simulations for your portfolio to model portfolio performance at different retirement ages. \n",
    "\n",
    "With the following steps:\n",
    "1. Calculate the daily returns for the SPY and AGG closing prices.\n",
    "2. Calculate volatility for both the SPY and AGG closing prices.\n",
    "3. Find the last day's closing price for both stocks and save those as variables.\n",
    "4. Run a Monte Carlo Simulation of at least 100 iterations and generate at least 20 years of closing prices"
   ]
  },
  {
   "cell_type": "code",
   "execution_count": 11,
   "metadata": {},
   "outputs": [
    {
     "data": {
      "text/plain": [
       "7.864725590570772e-06"
      ]
     },
     "execution_count": 11,
     "metadata": {},
     "output_type": "execute_result"
    }
   ],
   "source": [
    "# Calculate the daily roi for the stocks\n",
    "avg_daily_return_spy = daily_returns.mean()['SPY']['close']\n",
    "avg_daily_return_agg = daily_returns.mean()['AGG']['close']\n",
    "avg_daily_return_agg\n"
   ]
  },
  {
   "cell_type": "code",
   "execution_count": 12,
   "metadata": {},
   "outputs": [
    {
     "data": {
      "text/plain": [
       "0.001906410649238661"
      ]
     },
     "execution_count": 12,
     "metadata": {},
     "output_type": "execute_result"
    }
   ],
   "source": [
    "# Calculate volatility\n",
    "std_dev_daily_return_spy = daily_returns.std()['SPY']['close']\n",
    "std_dev_daily_return_agg = daily_returns.std()['AGG']['close']\n",
    "std_dev_daily_return_agg"
   ]
  },
  {
   "cell_type": "code",
   "execution_count": 16,
   "metadata": {},
   "outputs": [],
   "source": [
    "# Save the last day's closing price\n",
    "spy_last_price = df['SPY']['close'][-1]\n",
    "agg_last_price = df['AGG']['close'][-1]"
   ]
  },
  {
   "cell_type": "code",
   "execution_count": 17,
   "metadata": {},
   "outputs": [],
   "source": [
    "# Setup the Monte Carlo Parameters\n",
    "num_simulations = 100\n",
    "num_trading_days = 252 * 30\n",
    "monte_carlo = pd.DataFrame()"
   ]
  },
  {
   "cell_type": "code",
   "execution_count": 19,
   "metadata": {},
   "outputs": [
    {
     "data": {
      "text/html": [
       "<div>\n",
       "<style scoped>\n",
       "    .dataframe tbody tr th:only-of-type {\n",
       "        vertical-align: middle;\n",
       "    }\n",
       "\n",
       "    .dataframe tbody tr th {\n",
       "        vertical-align: top;\n",
       "    }\n",
       "\n",
       "    .dataframe thead th {\n",
       "        text-align: right;\n",
       "    }\n",
       "</style>\n",
       "<table border=\"1\" class=\"dataframe\">\n",
       "  <thead>\n",
       "    <tr style=\"text-align: right;\">\n",
       "      <th></th>\n",
       "      <th>0</th>\n",
       "      <th>1</th>\n",
       "      <th>2</th>\n",
       "      <th>3</th>\n",
       "      <th>4</th>\n",
       "      <th>5</th>\n",
       "      <th>6</th>\n",
       "      <th>7</th>\n",
       "      <th>8</th>\n",
       "      <th>9</th>\n",
       "      <th>...</th>\n",
       "      <th>90</th>\n",
       "      <th>91</th>\n",
       "      <th>92</th>\n",
       "      <th>93</th>\n",
       "      <th>94</th>\n",
       "      <th>95</th>\n",
       "      <th>96</th>\n",
       "      <th>97</th>\n",
       "      <th>98</th>\n",
       "      <th>99</th>\n",
       "    </tr>\n",
       "  </thead>\n",
       "  <tbody>\n",
       "    <tr>\n",
       "      <th>7556</th>\n",
       "      <td>10.909797</td>\n",
       "      <td>5.961223</td>\n",
       "      <td>20.056751</td>\n",
       "      <td>7.843838</td>\n",
       "      <td>6.733245</td>\n",
       "      <td>13.581770</td>\n",
       "      <td>7.899493</td>\n",
       "      <td>7.584343</td>\n",
       "      <td>5.971492</td>\n",
       "      <td>13.368875</td>\n",
       "      <td>...</td>\n",
       "      <td>9.756560</td>\n",
       "      <td>14.529306</td>\n",
       "      <td>7.615684</td>\n",
       "      <td>6.021352</td>\n",
       "      <td>22.573186</td>\n",
       "      <td>7.215034</td>\n",
       "      <td>7.606944</td>\n",
       "      <td>11.399724</td>\n",
       "      <td>6.642887</td>\n",
       "      <td>6.362869</td>\n",
       "    </tr>\n",
       "    <tr>\n",
       "      <th>7557</th>\n",
       "      <td>10.843661</td>\n",
       "      <td>5.956457</td>\n",
       "      <td>20.106659</td>\n",
       "      <td>7.859006</td>\n",
       "      <td>6.755895</td>\n",
       "      <td>13.504075</td>\n",
       "      <td>7.920100</td>\n",
       "      <td>7.542728</td>\n",
       "      <td>6.002461</td>\n",
       "      <td>13.450275</td>\n",
       "      <td>...</td>\n",
       "      <td>9.795173</td>\n",
       "      <td>14.660958</td>\n",
       "      <td>7.654919</td>\n",
       "      <td>5.991936</td>\n",
       "      <td>22.462435</td>\n",
       "      <td>7.202846</td>\n",
       "      <td>7.623458</td>\n",
       "      <td>11.429799</td>\n",
       "      <td>6.669444</td>\n",
       "      <td>6.370484</td>\n",
       "    </tr>\n",
       "    <tr>\n",
       "      <th>7558</th>\n",
       "      <td>10.827201</td>\n",
       "      <td>6.007798</td>\n",
       "      <td>20.260607</td>\n",
       "      <td>7.898565</td>\n",
       "      <td>6.786637</td>\n",
       "      <td>13.490810</td>\n",
       "      <td>7.977110</td>\n",
       "      <td>7.519526</td>\n",
       "      <td>6.030585</td>\n",
       "      <td>13.399582</td>\n",
       "      <td>...</td>\n",
       "      <td>9.798482</td>\n",
       "      <td>14.747145</td>\n",
       "      <td>7.701219</td>\n",
       "      <td>5.983582</td>\n",
       "      <td>22.307731</td>\n",
       "      <td>7.216467</td>\n",
       "      <td>7.656236</td>\n",
       "      <td>11.295993</td>\n",
       "      <td>6.602125</td>\n",
       "      <td>6.360458</td>\n",
       "    </tr>\n",
       "    <tr>\n",
       "      <th>7559</th>\n",
       "      <td>10.831874</td>\n",
       "      <td>5.978449</td>\n",
       "      <td>20.260832</td>\n",
       "      <td>7.876490</td>\n",
       "      <td>6.792199</td>\n",
       "      <td>13.484651</td>\n",
       "      <td>8.047763</td>\n",
       "      <td>7.517831</td>\n",
       "      <td>6.063162</td>\n",
       "      <td>13.379180</td>\n",
       "      <td>...</td>\n",
       "      <td>9.765016</td>\n",
       "      <td>14.767989</td>\n",
       "      <td>7.687243</td>\n",
       "      <td>6.013615</td>\n",
       "      <td>22.357482</td>\n",
       "      <td>7.222124</td>\n",
       "      <td>7.662585</td>\n",
       "      <td>11.338455</td>\n",
       "      <td>6.540275</td>\n",
       "      <td>6.376714</td>\n",
       "    </tr>\n",
       "    <tr>\n",
       "      <th>7560</th>\n",
       "      <td>10.896255</td>\n",
       "      <td>6.011673</td>\n",
       "      <td>20.238817</td>\n",
       "      <td>7.894484</td>\n",
       "      <td>6.802722</td>\n",
       "      <td>13.379638</td>\n",
       "      <td>8.015196</td>\n",
       "      <td>7.423753</td>\n",
       "      <td>5.996385</td>\n",
       "      <td>13.354008</td>\n",
       "      <td>...</td>\n",
       "      <td>9.743182</td>\n",
       "      <td>14.795167</td>\n",
       "      <td>7.649336</td>\n",
       "      <td>6.047533</td>\n",
       "      <td>22.338761</td>\n",
       "      <td>7.210181</td>\n",
       "      <td>7.674953</td>\n",
       "      <td>11.359784</td>\n",
       "      <td>6.520668</td>\n",
       "      <td>6.373382</td>\n",
       "    </tr>\n",
       "  </tbody>\n",
       "</table>\n",
       "<p>5 rows × 100 columns</p>\n",
       "</div>"
      ],
      "text/plain": [
       "             0         1          2         3         4          5         6   \\\n",
       "7556  10.909797  5.961223  20.056751  7.843838  6.733245  13.581770  7.899493   \n",
       "7557  10.843661  5.956457  20.106659  7.859006  6.755895  13.504075  7.920100   \n",
       "7558  10.827201  6.007798  20.260607  7.898565  6.786637  13.490810  7.977110   \n",
       "7559  10.831874  5.978449  20.260832  7.876490  6.792199  13.484651  8.047763   \n",
       "7560  10.896255  6.011673  20.238817  7.894484  6.802722  13.379638  8.015196   \n",
       "\n",
       "            7         8          9   ...        90         91        92  \\\n",
       "7556  7.584343  5.971492  13.368875  ...  9.756560  14.529306  7.615684   \n",
       "7557  7.542728  6.002461  13.450275  ...  9.795173  14.660958  7.654919   \n",
       "7558  7.519526  6.030585  13.399582  ...  9.798482  14.747145  7.701219   \n",
       "7559  7.517831  6.063162  13.379180  ...  9.765016  14.767989  7.687243   \n",
       "7560  7.423753  5.996385  13.354008  ...  9.743182  14.795167  7.649336   \n",
       "\n",
       "            93         94        95        96         97        98        99  \n",
       "7556  6.021352  22.573186  7.215034  7.606944  11.399724  6.642887  6.362869  \n",
       "7557  5.991936  22.462435  7.202846  7.623458  11.429799  6.669444  6.370484  \n",
       "7558  5.983582  22.307731  7.216467  7.656236  11.295993  6.602125  6.360458  \n",
       "7559  6.013615  22.357482  7.222124  7.662585  11.338455  6.540275  6.376714  \n",
       "7560  6.047533  22.338761  7.210181  7.674953  11.359784  6.520668  6.373382  \n",
       "\n",
       "[5 rows x 100 columns]"
      ]
     },
     "execution_count": 19,
     "metadata": {},
     "output_type": "execute_result"
    }
   ],
   "source": [
    "# Run the Monte Carlo Simulation\n",
    "    \n",
    "    # Initialize empty DataFrame to hold simulated prices for each simulation\n",
    "simulated_price_df = pd.DataFrame()\n",
    "portfolio_cumulative_returns = pd.DataFrame()\n",
    "\n",
    "# Run the simulation of projecting stock prices for the next trading year, `100` times\n",
    "for n in range(num_simulations):\n",
    "\n",
    "    # Initialize the simulated prices list with the last closing price of `SPY` and `AGG`\n",
    "    simulated_spy_prices = [spy_last_price]\n",
    "    simulated_agg_prices = [agg_last_price]\n",
    "    \n",
    "    # Simulate the returns for 7560 days\n",
    "    for i in range(num_trading_days):\n",
    "        \n",
    "        # Calculate the simulated price using the last price within the list\n",
    "        simulated_spy_price = simulated_spy_prices[-1] * (1 + np.random.normal(avg_daily_return_spy, std_dev_daily_return_spy))\n",
    "        simulated_agg_price = simulated_agg_prices[-1] * (1 + np.random.normal(avg_daily_return_agg, std_dev_daily_return_agg))\n",
    "        \n",
    "        # Append the simulated price to the list\n",
    "        simulated_spy_prices.append(simulated_spy_price)\n",
    "        simulated_agg_prices.append(simulated_agg_price)\n",
    "    \n",
    "    # Append a simulated prices of each simulation to DataFrame\n",
    "    simulated_price_df[\"SPY prices\"] = pd.Series(simulated_spy_prices)\n",
    "    simulated_price_df[\"AGG prices\"] = pd.Series(simulated_agg_prices)\n",
    "    \n",
    "    # Calculate the daily returns of simulated prices\n",
    "    simulated_daily_returns = simulated_price_df.pct_change()\n",
    "    \n",
    "    # Set the portfolio weights (60% SPY; 40% AGG)\n",
    "    weights = [0.60, 0.40]\n",
    "\n",
    "    # Use the `dot` function with the weights to multiply weights with each column's simulated daily returns\n",
    "    portfolio_daily_returns = simulated_daily_returns.dot(weights)\n",
    "    \n",
    "    # Calculate the normalized, cumulative return series\n",
    "    portfolio_cumulative_returns[n] = (1 + portfolio_daily_returns.fillna(0)).cumprod()\n",
    "\n",
    "# Print records from the DataFrame\n",
    "portfolio_cumulative_returns.tail()"
   ]
  },
  {
   "cell_type": "code",
   "execution_count": 20,
   "metadata": {},
   "outputs": [
    {
     "data": {
      "text/plain": [
       "<matplotlib.axes._subplots.AxesSubplot at 0x116cd2710>"
      ]
     },
     "execution_count": 20,
     "metadata": {},
     "output_type": "execute_result"
    },
    {
     "data": {
      "image/png": "[encoded data removed]",
      "text/plain": [
       "<Figure size 432x288 with 1 Axes>"
      ]
     },
     "metadata": {
      "needs_background": "light"
     },
     "output_type": "display_data"
    }
   ],
   "source": [
    "# Visualize the Simulation\n",
    "plot_title = f\"{n+1} Simulations of Cumulative Portfolio Return Trajectories Over the Next {num_trading_days} Trading Days\"\n",
    "portfolio_cumulative_returns.plot(legend=None, title=plot_title)"
   ]
  },
  {
   "cell_type": "code",
   "execution_count": 21,
   "metadata": {},
   "outputs": [
    {
     "data": {
      "text/plain": [
       "0    10.896255\n",
       "1     6.011673\n",
       "2    20.238817\n",
       "3     7.894484\n",
       "4     6.802722\n",
       "Name: 7560, dtype: float64"
      ]
     },
     "execution_count": 21,
     "metadata": {},
     "output_type": "execute_result"
    }
   ],
   "source": [
    "# Select the last row for the cumulative returns (cumulative returns at 30 years)\n",
    "ending_cumulative_returns = portfolio_cumulative_returns.iloc[-1, :]\n",
    "ending_cumulative_returns.head()"
   ]
  },
  {
   "cell_type": "code",
   "execution_count": 22,
   "metadata": {},
   "outputs": [
    {
     "data": {
      "text/plain": [
       "0    5.630762\n",
       "1    3.339683\n",
       "2    6.444279\n",
       "3    3.776049\n",
       "4    5.550974\n",
       "Name: 5041, dtype: float64"
      ]
     },
     "execution_count": 22,
     "metadata": {},
     "output_type": "execute_result"
    }
   ],
   "source": [
    "# Select the last row for the cumulative returns (cumulative returns at 20 years)\n",
    "ending_cumulative_returns_20years = portfolio_cumulative_returns.iloc[-2520, :]\n",
    "ending_cumulative_returns_20years.head()"
   ]
  },
  {
   "cell_type": "code",
   "execution_count": 24,
   "metadata": {},
   "outputs": [
    {
     "data": {
      "text/plain": [
       "0.1     5.411587\n",
       "0.9    14.868650\n",
       "Name: 7560, dtype: float64"
      ]
     },
     "execution_count": 24,
     "metadata": {},
     "output_type": "execute_result"
    }
   ],
   "source": [
    "# Display the 90% confidence interval for the ending returns\n",
    "confidence_interval_30_years = ending_cumulative_returns.quantile(q=[0.1, 0.9])\n",
    "confidence_interval_30_years"
   ]
  },
  {
   "cell_type": "code",
   "execution_count": 27,
   "metadata": {},
   "outputs": [
    {
     "data": {
      "text/plain": [
       "<matplotlib.lines.Line2D at 0x116810f60>"
      ]
     },
     "execution_count": 27,
     "metadata": {},
     "output_type": "execute_result"
    },
    {
     "data": {
      "image/png": "[encoded data removed]",
      "text/plain": [
       "<Figure size 432x288 with 1 Axes>"
      ]
     },
     "metadata": {
      "needs_background": "light"
     },
     "output_type": "display_data"
    }
   ],
   "source": [
    "# Visualize the distribution of the ending returns\n",
    "plt.figure();\n",
    "ending_cumulative_returns.plot(kind='hist', density=True, bins=10)\n",
    "plt.axvline(confidence_interval_30_years.iloc[0], color='r')\n",
    "plt.axvline(confidence_interval_30_years.iloc[1], color='r')"
   ]
  },
  {
   "cell_type": "markdown",
   "metadata": {},
   "source": [
    "---"
   ]
  },
  {
   "cell_type": "markdown",
   "metadata": {},
   "source": [
    "# Retirement Analysis\n",
    "\n",
    "Using the monte carlo model to answer the following retirement planning questions:\n",
    "\n",
    "1. What are the expected cumulative returns at 30 years for the 10th, 50th, and 90th percentiles?\n",
    "2. Given an initial investment of `$20,000`, what is the expected portfolio return in dollars at the 10th, 50th, and 90th percentiles?\n",
    "3. Given the current projected annual income from the Plaid analysis, will a 4% withdraw rate from the retirement portfolio meet or exceed that value at the 10th percentile?\n",
    "4. How would a 50% increase in the initial investment amount affect the 4% retirement withdrawal?"
   ]
  },
  {
   "cell_type": "markdown",
   "metadata": {},
   "source": [
    "### What are the expected cumulative returns at 30 years for the 10th, 50th, and 90th percentiles?"
   ]
  },
  {
   "cell_type": "code",
   "execution_count": 32,
   "metadata": {},
   "outputs": [
    {
     "data": {
      "text/plain": [
       "0.1     5.411587\n",
       "0.5     8.618179\n",
       "0.9    14.868650\n",
       "Name: 7560, dtype: float64"
      ]
     },
     "execution_count": 32,
     "metadata": {},
     "output_type": "execute_result"
    }
   ],
   "source": [
    "confidence_interval= ending_cumulative_returns.quantile(q=[0.1, 0.5, 0.9])\n",
    "confidence_interval"
   ]
  },
  {
   "cell_type": "markdown",
   "metadata": {},
   "source": [
    "### Given an initial investment of `$20,000`, what is the expected portfolio return in dollars at the 10th, 50th, and 90th percentiles?"
   ]
  },
  {
   "cell_type": "code",
   "execution_count": 33,
   "metadata": {},
   "outputs": [
    {
     "name": "stdout",
     "output_type": "stream",
     "text": [
      "There is a 90% chance that an initial investment of $20,000 in the portfolio over the next 30 years will end at around $128231.74490684853, 50% chance that will end at $192363.5832185201 and 10% chance that will end at around $317372.99173165316\n"
     ]
    }
   ],
   "source": [
    "# Set initial investment\n",
    "initial_investment = 20000\n",
    "\n",
    "# Calculate investment profit/loss of lower and upper bound cumulative portfolio returns\n",
    "investment_pnl_lower_bound = initial_investment + (initial_investment * confidence_interval.iloc[0])\n",
    "investment_pnl_middle_bound = initial_investment + (initial_investment * confidence_interval.iloc[1])\n",
    "investment_pnl_upper_bound = initial_investment + (initial_investment * confidence_interval.iloc[2])\n",
    "                                                    \n",
    "# Print the results\n",
    "print(f\"There is a 90% chance that an initial investment of $20,000 in the portfolio\"\n",
    "      f\" over the next 30 years will end at around\"\n",
    "      f\" ${investment_pnl_lower_bound}, 50% chance that will end at ${investment_pnl_middle_bound} and 10% chance that will end at around ${investment_pnl_upper_bound}\")"
   ]
  },
  {
   "cell_type": "markdown",
   "metadata": {},
   "source": [
    "### Given the current projected annual income from the Plaid analysis, will a 4% withdraw rate from the retirement portfolio meet or exceed that value at the 10th percentile?\n",
    "\n",
    "Note: This is effectively saying that 90% of the expected returns will be greater than the return at the 10th percentile, so this can help measure the uncertainty about having enough funds at retirement"
   ]
  },
  {
   "cell_type": "code",
   "execution_count": 38,
   "metadata": {},
   "outputs": [
    {
     "name": "stdout",
     "output_type": "stream",
     "text": [
      "The 4% withdrawal rate of the 90 percentil expected return is $5129.269796273941. This amount is lower than the current annual income\n"
     ]
    }
   ],
   "source": [
    "retiree_income_90percentile = investment_pnl_lower_bound*.04\n",
    "print(f\"The 4% withdrawal rate of the 90 percentil expected return is ${retiree_income_90percentile}. This amount is lower than the current annual income\")"
   ]
  },
  {
   "cell_type": "markdown",
   "metadata": {},
   "source": [
    "### How would a 50% increase in the initial investment amount affect the 4% retirement withdrawal?"
   ]
  },
  {
   "cell_type": "code",
   "execution_count": 41,
   "metadata": {},
   "outputs": [
    {
     "name": "stdout",
     "output_type": "stream",
     "text": [
      "The 4% withdrawal rate of the 50 percentil expected return is $7694.543328740804. This amount is closer to the current annual income\n"
     ]
    }
   ],
   "source": [
    "retiree_income_50percentile = investment_pnl_middle_bound*.04\n",
    "print(f\"The 4% withdrawal rate of the 50 percentil expected return is ${retiree_income_50percentile}. This amount is closer to the current annual income\")"
   ]
  },
  {
   "cell_type": "markdown",
   "metadata": {},
   "source": [
    "### Optional Challenge\n",
    "\n",
    "In this section, you will calculate and plot the cumulative returns for the median and 90% confidence intervals. This plot shows the expected cumulative returns for any given day between the first day and the last day of investment. "
   ]
  },
  {
   "cell_type": "code",
   "execution_count": null,
   "metadata": {},
   "outputs": [],
   "source": [
    "# YOUR CODE HERE"
   ]
  }
 ],
 "metadata": {
  "kernel_info": {
   "name": "dev"
  },
  "kernelspec": {
   "display_name": "Python 3",
   "language": "python",
   "name": "python3"
  },
  "language_info": {
   "codemirror_mode": {
    "name": "ipython",
    "version": 3
   },
   "file_extension": ".py",
   "mimetype": "text/x-python",
   "name": "python",
   "nbconvert_exporter": "python",
   "pygments_lexer": "ipython3",
   "version": "3.7.3"
  },
  "nteract": {
   "version": "0.12.3"
  }
 },
 "nbformat": 4,
 "nbformat_minor": 4
}
